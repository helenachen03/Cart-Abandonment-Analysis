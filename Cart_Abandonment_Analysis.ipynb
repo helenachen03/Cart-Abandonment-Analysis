{
 "cells": [
  {
   "cell_type": "markdown",
   "id": "a3d4387f-fa24-4a80-906b-4cca195b6736",
   "metadata": {},
   "source": [
    "# Cart Abandonment Analysis"
   ]
  },
  {
   "cell_type": "markdown",
   "id": "562d9d77-2e1e-4523-a28e-1e3b388f930c",
   "metadata": {},
   "source": [
    "##  Data Validation\n",
    "\n",
    "The dataset contains **7012 rows and 10 columns** before cleaning and validation. I have validated all the columns against the criteria in the dataset table:\n",
    "\n",
    "- customer_id: a unique identifier, no duplicates. No cleaning is needed.\n",
    "- first_item_added: shown as a timestamp. No cleaning is needed.\n",
    "- last_item_added: shown as a timestamp. This timestamp is not earlier than the timestamp when the first item wad added. No cleaning is needed.\n",
    "- discount_applied: either True or False. No cleaning is needed.\n",
    "- item_category: 15 categories but there are repetitious categories just in different orders. So I combined them into 7 categories.\n",
    "- number_of_items: Values from 1 to 10. No cleaning is needed.\n",
    "- total_price: It should be saved as a numerical variable. Remove the dollar sign and convert the data into a number with two decimal places. 231 values are missing. Replace the missing values with the median.\n",
    "- shipping_region: 343 values are missing. Replace the missing values with 'Unknown'.\n",
    "- abandoned_checkout: either True or False. No cleaning is needed.\n",
    "- reason_for_abandonment: 1767 values are missing deliberately because the customer did not abandon the cart. No cleaning is needed.\n",
    "\n",
    "After the data validation, the dataset contains **7012 rows and 10 columns** with only missing values in reason_for_abandonment.\n"
   ]
  },
  {
   "cell_type": "code",
   "execution_count": null,
   "id": "5c6dbf24-5706-44a6-a58a-eebeef4a39e2",
   "metadata": {},
   "outputs": [],
   "source": [
    "import pandas as pd\n",
    "df = pd.read_csv('data/customer.csv')\n",
    "df.info()"
   ]
  },
  {
   "cell_type": "code",
   "execution_count": null,
   "id": "d68e57ad-2e95-4f97-a27c-68b9f67386c4",
   "metadata": {},
   "outputs": [],
   "source": [
    "# perform cleaning tasks\n",
    "df['total_price'] = df['total_price'].str.replace('$','')\n",
    "df['total_price'] = df['total_price'].astype('float')\n",
    "df['total_price'] = df['total_price'].fillna(df['total_price'].median())\n",
    "df['shipping_region'] = df['shipping_region'].fillna('Unknown')\n",
    "\n",
    "df['item_category'] = df['item_category'].replace(['Clothing, Accessories, Shoes','Clothing, Accessories, Shoes','Accessories, Clothing, Shoes','Shoes, Accessories, Clothing','Shoes, Clothing, Accessories','Accessories, Shoes, Clothing'],'Clothing, Shoes, Accessories')\n",
    "df['item_category'] = df['item_category'].replace('Shoes, Clothing', 'Clothing, Shoes')\n",
    "df['item_category'] = df['item_category'].replace('Accessories, Clothing', 'Clothing, Accessories')\n",
    "df['item_category'] = df['item_category'].replace('Accessories, Shoes', 'Shoes, Accessories')\n",
    "\n",
    "# view the data after cleaning\n",
    "df.info()"
   ]
  },
  {
   "cell_type": "markdown",
   "id": "fc2e0cdf-9d9c-4948-93ea-54ecf6f2d401",
   "metadata": {},
   "source": [
    "## What is the Cart Abandonment Rate in the Last 5 weeks?\n",
    "\n",
    "The cart abandonment rate is a crucial metric for understanding customer behavior and optimizing the online shopping experience. **Cart Abandonment Rate** is the percentage of users who add items to their cart but do not complete the purchase. \n",
    "\n",
    "From the given data, we can calculate the cart abandonment rate in the last 4 weeks. From **Figure 1**, we can see 75.9% of the users who add items to their cart but do not complete the purchase in the last 5 weeks.\n",
    "\n",
    "Upon examining the weekly cart abandonment rate depicted in **Figure 2**, a notable observation is that the rate experiences a slight decline during Week 3, followed by an overall upward trend.\n"
   ]
  },
  {
   "cell_type": "code",
   "execution_count": null,
   "id": "57615927-dab1-476b-9aad-eeb2e7cd768d",
   "metadata": {},
   "outputs": [],
   "source": [
    "import matplotlib.pyplot as plt\n",
    "import seaborn as sns\n",
    "import matplotlib.style as style\n",
    "\n",
    "# Set the plot style\n",
    "plt.style.use('https://github.com/dhaitz/matplotlib-stylesheets/raw/master/pitayasmoothie-dark.mplstyle')\n",
    "\n",
    "# Set the figure size for all the figures\n",
    "plt.rcParams[\"figure.figsize\"] = (8,6)"
   ]
  },
  {
   "cell_type": "code",
   "execution_count": null,
   "id": "acb13e8f-25e7-42d8-9b54-d16924fbf768",
   "metadata": {},
   "outputs": [],
   "source": [
    "# Plotting the bar chart using Seaborn\n",
    "category_percentages = df['abandoned_checkout'].value_counts(normalize=True) * 100\n",
    "ax = sns.barplot(x=category_percentages.index, y=category_percentages, alpha=0.7)\n",
    "plt.xlabel('Abandoned Checkout or Not')\n",
    "plt.ylabel('Percentage')\n",
    "plt.title('Figure 1 - Percentage of Customers Abandoned Checkout or Not', fontweight='bold', pad=20)\n",
    "# Add percentage labels to the bars\n",
    "for p in ax.patches:\n",
    "    height = p.get_height()\n",
    "    ax.text(p.get_x() + p.get_width() / 2, height + 0.5, f'{height:.1f}%', ha='center')\n",
    "    \n",
    "# Adjust the position and alignment of the title\n",
    "plt.tight_layout()\n",
    "plt.subplots_adjust(top=0.9)\n",
    "ax.title.set_position([0.5, 1.05])\n",
    "\n",
    "plt.show()"
   ]
  },
  {
   "cell_type": "code",
   "execution_count": null,
   "id": "aae5e7b9-40c5-422c-870c-a8dd002a1464",
   "metadata": {},
   "outputs": [],
   "source": [
    "df['last_item_added'] = pd.to_datetime(df['last_item_added'])\n",
    "df['week'] = df['last_item_added'].dt.isocalendar().week\n",
    "abandon_rate = df.groupby('week')['abandoned_checkout'].mean() * 100\n",
    "abandon_rate.plot(kind='line')\n",
    "plt.xlabel('Week')\n",
    "plt.ylabel('Abandoned Rate (%)')\n",
    "plt.title('Figure 2 - Weekly Cart Abandonment Rate', fontweight='bold', pad= 20)\n",
    "plt.tight_layout()\n",
    "\n",
    "# Adjust the position and alignment of the title\n",
    "plt.subplots_adjust(top=0.9)\n",
    "ax.title.set_position([0.5, 1.05])\n",
    "\n",
    "# Set the x-axis and y-axis ticks to display integers only\n",
    "plt.locator_params(axis='x', integer=True)\n",
    "plt.locator_params(axis='y', integer=True)\n",
    "\n",
    "plt.show()"
   ]
  },
  {
   "cell_type": "markdown",
   "id": "cdf34b11-40c4-425c-88a7-d53c7dd599f1",
   "metadata": {},
   "source": [
    "## What might be the reasons for the high Cart Abandonment Rate in the Last 5 weeks?"
   ]
  },
  {
   "cell_type": "markdown",
   "id": "826a27ab-c6f5-48df-ae4e-e6afe15cc904",
   "metadata": {},
   "source": [
    "### Possible Reason 1: Price comparison\n",
    "From **Figure 3**, we can see the most common reason for the cart abandonment rate is the price comparison. In other words, they might not satisfy with the price we are given and decide not to complete the purchase.\n",
    "\n",
    "However, the data is directly collected from the survey. The survey may not accurately represent the entire population of interest due to selection bias. "
   ]
  },
  {
   "cell_type": "code",
   "execution_count": null,
   "id": "d8fac0e2-74ac-4ba9-bc6b-37946d940bc2",
   "metadata": {
    "jupyter": {
     "source_hidden": true
    }
   },
   "outputs": [],
   "source": [
    "reason_for_abandonment = df[~ df['reason_for_abandonment'].isna()]\n",
    "ax = sns.countplot(x=reason_for_abandonment['reason_for_abandonment'])\n",
    "plt.xlabel('Reasons')\n",
    "plt.ylabel('Number of Customers')\n",
    "plt.title('Figure 3 - Reasons for Cart Abandonment', fontweight='bold', pad= 20)\n",
    "plt.tight_layout()\n",
    "\n",
    "\n",
    "# Adjust the position and alignment of the title\n",
    "plt.subplots_adjust(top=0.9)\n",
    "ax.title.set_position([0.5, 1.05])\n",
    "\n",
    "plt.show()"
   ]
  },
  {
   "cell_type": "markdown",
   "id": "597846c0-dd6f-430b-8c96-b255b3394e97",
   "metadata": {},
   "source": [
    "### Reason 2: Discount Applied or Not\n",
    "From **Figure 4**, we can observe that customers who did not apply the discount are more likely to abandon checkout. This observation is supported by a follow-up chi-square test, which yielded a very small p-value (3.026613741350446e-52). The small p-value provides strong evidence against the null hypothesis, indicating a significant association between the discount applied and the abandonment of checkout.\n",
    "\n"
   ]
  },
  {
   "cell_type": "code",
   "execution_count": null,
   "id": "1ad276e9-6d64-4bb4-84a3-826935e4808b",
   "metadata": {},
   "outputs": [],
   "source": [
    "# Plotting the bar chart using Seaborn\n",
    "pivot_table = pd.pivot_table(data=df, index='discount_applied', columns='abandoned_checkout', aggfunc='size')\n",
    "ax = pivot_table.plot(kind='bar', stacked=True, alpha=0.7)\n",
    "plt.xlabel('Discount Applied or Not')\n",
    "plt.ylabel('Number of Customers')\n",
    "plt.title('Figure 4 - Discount Applied by Abandoned Checkout', fontweight='bold', pad= 20)\n",
    "plt.tight_layout()\n",
    "plt.xticks(rotation=0)\n",
    "\n",
    "# Adjust the position and alignment of the title\n",
    "plt.subplots_adjust(top=0.9)\n",
    "ax.title.set_position([0.5, 1.05])\n",
    "\n",
    "plt.show()"
   ]
  },
  {
   "cell_type": "markdown",
   "id": "dd6f4950-f119-4ec2-985f-9d9bcfdff833",
   "metadata": {},
   "source": [
    "#### Result of the Chi-Square Test"
   ]
  },
  {
   "cell_type": "code",
   "execution_count": null,
   "id": "6f9c5770-62df-4e09-86e1-94ef33ce4713",
   "metadata": {
    "jupyter": {
     "source_hidden": true
    }
   },
   "outputs": [],
   "source": [
    "import scipy.stats as stats\n",
    "\n",
    "# Create a contingency table\n",
    "contingency_table = pd.crosstab(df['discount_applied'], df['abandoned_checkout'])\n",
    "\n",
    "# Chi-Square Test\n",
    "chi2_stat, p_value, _, _ = stats.chi2_contingency(contingency_table)\n",
    "print(\"Chi-Square Test:\")\n",
    "print(\"Chi-Square Statistic:\", chi2_stat)\n",
    "print(\"p-value:\", p_value)"
   ]
  },
  {
   "cell_type": "markdown",
   "id": "b4b37d05-3a7e-41dd-b654-909d1e75ed88",
   "metadata": {},
   "source": [
    "### Reason 3: Number of Items\n",
    "From **Figure 5**, we can observe that customers who have one or more than eight items in their cart never abandoned the checkout in the last 4 weeks. This observation is supported by a follow-up chi-square test, which yielded an extremely small p-value (6.202932305816657e-208) and large chi-square statistics. The result provides strong evidence against the null hypothesis, indicating a significant association between the number of items and the abandonment of checkout."
   ]
  },
  {
   "cell_type": "code",
   "execution_count": null,
   "id": "7e690846-55ba-446e-aa5a-33e83f478d71",
   "metadata": {},
   "outputs": [],
   "source": [
    "# Plotting the bar chart using Seaborn\n",
    "plt.figure(figsize=(8, 6))\n",
    "ax = sns.countplot(data=df, x='number_of_items', hue='abandoned_checkout', alpha=0.7)\n",
    "plt.xlabel('Number of Items in the Cart', fontsize=12)\n",
    "plt.ylabel('Number of Customers', fontsize=12)\n",
    "plt.title('Figure 5 - Number of Items in the Cart by Abandoned Or Not',  fontweight='bold', pad= 20)\n",
    "plt.xticks(ha='right')\n",
    "plt.tight_layout()\n",
    "\n",
    "# Adjust the position and alignment of the title\n",
    "plt.subplots_adjust(top=0.9)\n",
    "ax.title.set_position([0.5, 1.05])\n",
    "\n",
    "plt.show()"
   ]
  },
  {
   "cell_type": "markdown",
   "id": "a4853868-5514-4474-a90e-06f64bb77850",
   "metadata": {},
   "source": [
    "#### Result of the Chi-Square Test"
   ]
  },
  {
   "cell_type": "code",
   "execution_count": null,
   "id": "fc1ee181-f6d3-4eb8-b67a-34790d7f2ec2",
   "metadata": {
    "jupyter": {
     "source_hidden": true
    }
   },
   "outputs": [],
   "source": [
    "# Create a contingency table\n",
    "contingency_table = pd.crosstab(df['number_of_items'], df['abandoned_checkout'])\n",
    "\n",
    "# Chi-Square Test\n",
    "chi2_stat, p_value, _, _ = stats.chi2_contingency(contingency_table)\n",
    "print(\"Chi-Square Test:\")\n",
    "print(\"Chi-Square Statistic:\", chi2_stat)\n",
    "print(\"p-value:\", p_value)"
   ]
  },
  {
   "cell_type": "markdown",
   "id": "eaf734f8-32c0-4c3a-ab38-fee4c0393b3a",
   "metadata": {},
   "source": [
    "### Reason 4: Time Spent in Adding Items\n",
    "From **Figure 6**, we can observe that customers who spent more time adding items to the cart will be more likely to abandon the checkout in the last 4 weeks. This observation is supported by a Wilcoxon rank-sum test, which yielded a very small p-value (1.8049641589940574e-11). The result provides strong evidence against the null hypothesis, indicating a  significant association between the time spent in adding items and the likelihood of customers abandoning checkout."
   ]
  },
  {
   "cell_type": "code",
   "execution_count": null,
   "id": "3602418a-4a21-48d1-b482-5f42c163d152",
   "metadata": {
    "jupyter": {
     "source_hidden": true
    }
   },
   "outputs": [],
   "source": [
    "df['time_spent'] = pd.to_datetime(df['last_item_added']) - pd.to_datetime(df['first_item_added'])\n",
    "df['time_spent'] = df['time_spent'].dt.total_seconds()/ 60\n",
    "\n",
    "ax = sns.boxplot(data=df, x='abandoned_checkout', y='time_spent')\n",
    "plt.xlabel('Abanoned Checkout or Not')\n",
    "plt.ylabel('Time Spent in Minutes')\n",
    "plt.title('Figure 6 - Distribution of Time Spent by Abandoned Checkout or Not', fontweight='bold', pad= 20)\n",
    "plt.tight_layout()\n",
    "\n",
    "# Adjust the position and alignment of the title\n",
    "plt.subplots_adjust(top=0.9)\n",
    "ax.title.set_position([0.5, 1.05])\n",
    "\n",
    "plt.show()"
   ]
  },
  {
   "cell_type": "markdown",
   "id": "0b7e4790-f674-4410-8ce2-6a7516dd7a08",
   "metadata": {},
   "source": [
    "#### Result of the Wilcoxon rank-sum Test"
   ]
  },
  {
   "cell_type": "code",
   "execution_count": null,
   "id": "23933431-7fc4-42a6-ad45-e3a1c36d0cb1",
   "metadata": {
    "jupyter": {
     "source_hidden": true
    }
   },
   "outputs": [],
   "source": [
    "abandoned_time = df.loc[df['abandoned_checkout'] == 1, 'time_spent']\n",
    "non_abandoned_time = df.loc[df['abandoned_checkout'] == 0, 'time_spent']\n",
    "\n",
    "\n",
    "# Mann-Whitney U Test\n",
    "u_stat, p_value = stats.mannwhitneyu(abandoned_time, non_abandoned_time)\n",
    "print(\"Wilcoxon rank-sum Test:\")\n",
    "print(\"Wilcoxon rank-sum Statistic:\", u_stat)\n",
    "print(\"p-value:\", p_value)"
   ]
  },
  {
   "cell_type": "markdown",
   "id": "3b8e0432-b47d-433e-a2bf-86cb2609c426",
   "metadata": {},
   "source": [
    "### Other Maybe Reason: Item Category\n",
    "From **Figure 7**, we can observe there are not much association between the item category and whether the customer abandon the checkout or not. This observation is supported by a Chi-Square test. The p-value is above the chosen significant level of 0.05. This suggests that there is insufficient evidence to reject the null hypothesis of independence between the total price and the likelihood of customers abandoning checkout.\n",
    "\n",
    "However, the p-value is close to the significant level, it may be worth further investigation or conducting additional analyses to explore the relationship between the variables and potentially gather more evidence."
   ]
  },
  {
   "cell_type": "code",
   "execution_count": null,
   "id": "36fa3c70-0d8d-44c6-9056-1e41d7e7f59f",
   "metadata": {},
   "outputs": [],
   "source": [
    "# Calculate the count and percentage of each item category by abandoned checkout\n",
    "category_counts = df.groupby(['item_category', 'abandoned_checkout']).size().unstack()\n",
    "category_percentages = category_counts.div(category_counts.sum(axis=1), axis=0) * 100\n",
    "\n",
    "ax = category_percentages.plot(kind='bar', stacked=True, alpha=0.7)\n",
    "\n",
    "# Set x-axis and y-axis labels\n",
    "plt.xlabel('Item Category')\n",
    "plt.ylabel('Percentage')\n",
    "\n",
    "# Set plot title\n",
    "plt.title('Figure 7 - Item Category by Abandoned Checkout Or Not', fontweight='bold', pad=20)\n",
    "\n",
    "# Adjust spacing\n",
    "plt.tight_layout()\n",
    "\n",
    "# Move the legend to the outside of the plot\n",
    "plt.legend(bbox_to_anchor=(1.05, 1), loc='upper left')\n",
    "\n",
    "# Rotate x-axis labels to 0 degrees and manually wrap them\n",
    "labels = [label.replace(', ', ',\\n') for label in category_percentages.index]\n",
    "plt.xticks(ticks=range(len(labels)), labels=labels, rotation=0)\n",
    "\n",
    "\n",
    "# Adjust the position and alignment of the title\n",
    "plt.subplots_adjust(top=0.9)\n",
    "ax.title.set_position([0.5, 1.05])\n",
    "\n",
    "# Display the plot\n",
    "plt.show()"
   ]
  },
  {
   "cell_type": "markdown",
   "id": "5bfb8964-3941-4d9b-a621-da8703036132",
   "metadata": {},
   "source": [
    "#### Result of the Chi-Square Test"
   ]
  },
  {
   "cell_type": "code",
   "execution_count": null,
   "id": "97493451-2be5-4aa5-a9bd-81e9485563a1",
   "metadata": {
    "jupyter": {
     "source_hidden": true
    }
   },
   "outputs": [],
   "source": [
    "# Create a contingency table\n",
    "contingency_table = pd.crosstab(df['item_category'], df['abandoned_checkout'])\n",
    "\n",
    "# Chi-Square Test\n",
    "chi2_stat, p_value, _, _ = stats.chi2_contingency(contingency_table)\n",
    "print(\"Chi-Square Test:\")\n",
    "print(\"Chi-Square Statistic:\", chi2_stat)\n",
    "print(\"p-value:\", p_value)"
   ]
  },
  {
   "cell_type": "markdown",
   "id": "269661b5-3c57-4eba-93f8-33f991d8fc13",
   "metadata": {},
   "source": [
    "## Business Metrics\n",
    "\n",
    "Since our goal is to understand the reasons behind cart abandonment to optimize their conversion rates and improve the user experience, I would recommend we use the following metrics to monitor:\n",
    "- Abandonment Rate by Discount Applied (Current and Weekly)\n",
    "- Average Number of Items per Cart by Abandoned or Not (Current and Weekly)\n",
    "- Average Time Spent in Adding items by Abandoned or Not (Current and Weekly)\n"
   ]
  },
  {
   "cell_type": "markdown",
   "id": "334cdfc9-4d9d-4419-9c5c-6065d7db9d7d",
   "metadata": {},
   "source": [
    "#### Metric 1: Abandonment Rate by Discount\n",
    "Monitor the abandonment rate for both customers who applied a discount and those who did not apply a discount. Compare the abandonment rates between the two groups over time or across different marketing campaigns. This will help assess the effectiveness of offering discounts in reducing cart abandonment."
   ]
  },
  {
   "cell_type": "code",
   "execution_count": null,
   "id": "3773b95e-a415-49ec-9c70-3e77f9f52d2f",
   "metadata": {
    "jupyter": {
     "source_hidden": true
    }
   },
   "outputs": [],
   "source": [
    "discount_abandon_rate = df.groupby('discount_applied')['abandoned_checkout'].mean()\n",
    "# Create a DataFrame from the discount abandonment rate\n",
    "table = pd.DataFrame({'Discount Applied': discount_abandon_rate.index, 'Abandonment Rate': discount_abandon_rate.values})\n",
    "table"
   ]
  },
  {
   "cell_type": "code",
   "execution_count": null,
   "id": "9c1565e1-cf39-4f86-b352-1d8e07ec263f",
   "metadata": {},
   "outputs": [],
   "source": [
    "discount_abandon_rate = df.groupby(['week','discount_applied'])['abandoned_checkout'].mean().unstack() * 100\n",
    "discount_abandon_rate.plot(kind='line')\n",
    "plt.xlabel('Week')\n",
    "plt.ylabel('Abandoned Rate (%)')\n",
    "plt.title('Metric - Weekly Cart Abandonment Rate by Discount Applied', fontweight='bold', pad= 20)\n",
    "plt.tight_layout()\n",
    "\n",
    "# Adjust the position and alignment of the title\n",
    "plt.subplots_adjust(top=0.9)\n",
    "ax.title.set_position([0.5, 1.05])\n",
    "\n",
    "# Set the x-axis and y-axis ticks to display integers only\n",
    "plt.locator_params(axis='x', integer=True)\n",
    "plt.locator_params(axis='y', integer=True)\n",
    "\n",
    "plt.show()"
   ]
  },
  {
   "cell_type": "markdown",
   "id": "c6e8adbe-5373-4a30-9d4e-96a1ed622941",
   "metadata": {},
   "source": [
    "#### Metric 2: Average Number of Items per Cart\n",
    "Track the average number of items added to the cart by customers who abandoned checkout compared to those who completed the purchase. Monitoring this metric can provide insights into whether customers tend to abandon carts with a higher or lower number of items."
   ]
  },
  {
   "cell_type": "code",
   "execution_count": null,
   "id": "1c5bf1c4-18b4-4bf6-a228-cc17df5180ba",
   "metadata": {
    "jupyter": {
     "source_hidden": true
    }
   },
   "outputs": [],
   "source": [
    "item_abandon_rate = df.groupby('abandoned_checkout')['number_of_items'].mean().round(1)\n",
    "table = pd.DataFrame({'Abandoned Checkout Or Not': item_abandon_rate.index, 'Avearge Number of Items': item_abandon_rate.values})\n",
    "table"
   ]
  },
  {
   "cell_type": "code",
   "execution_count": null,
   "id": "57465200-b6e9-4ef9-a5d0-cfce3f0b1c18",
   "metadata": {},
   "outputs": [],
   "source": [
    "item_abandon_rate = df.groupby(['week','abandoned_checkout'])['number_of_items'].mean().unstack()\n",
    "item_abandon_rate.plot(kind='line')\n",
    "plt.xlabel('Week')\n",
    "plt.ylabel('Average Number of Items per Cart')\n",
    "plt.title('Metric 2 - Weekly Average Number of Items per Cart by Abandoned Checkout or Not', fontweight='bold', pad= 20)\n",
    "plt.tight_layout()\n",
    "\n",
    "# Adjust the position and alignment of the title\n",
    "plt.subplots_adjust(top=0.9)\n",
    "ax.title.set_position([0.5, 1.05])\n",
    "\n",
    "# Set the x-axis and y-axis ticks to display integers only\n",
    "plt.locator_params(axis='x', integer=True)\n",
    "plt.locator_params(axis='y', integer=True)\n",
    "\n",
    "plt.show()"
   ]
  },
  {
   "cell_type": "markdown",
   "id": "836df349-4336-436c-8679-07e6f5b825f5",
   "metadata": {},
   "source": [
    "#### Metric 3: Time Spent in Adding Items\n",
    "Measure the average time customers spend in the cart before abandoning the checkout process. Compare this metric between abandoned and completed orders to identify any significant differences. Monitoring the time spent in adding items can help identify potential friction points or complications in the checkout process."
   ]
  },
  {
   "cell_type": "code",
   "execution_count": null,
   "id": "5cff9d82-035e-4d53-871b-802939eb5d76",
   "metadata": {
    "jupyter": {
     "source_hidden": true
    }
   },
   "outputs": [],
   "source": [
    "item_abandon_rate = df.groupby('abandoned_checkout')['time_spent'].mean().round(1)\n",
    "table = pd.DataFrame({'Abandoned Checkout Or Not': item_abandon_rate.index, 'Avearge Time Spent in Adding Items': item_abandon_rate.values})\n",
    "table"
   ]
  },
  {
   "cell_type": "code",
   "execution_count": null,
   "id": "baa438dc-9b37-416c-aa24-726d88caaab9",
   "metadata": {},
   "outputs": [],
   "source": [
    "item_abandon_rate = df.groupby(['week','abandoned_checkout'])['time_spent'].mean().unstack()\n",
    "item_abandon_rate.plot(kind='line')\n",
    "plt.xlabel('Week')\n",
    "plt.ylabel('Average Time Spent in the Cart')\n",
    "plt.title('Metric 3 - Weekly Average Time Spent in the Cart by Abandoned Checkout or Not', fontweight='bold', pad= 20)\n",
    "plt.tight_layout()\n",
    "\n",
    "# Adjust the position and alignment of the title\n",
    "plt.subplots_adjust(top=0.9)\n",
    "ax.title.set_position([0.5, 1.05])\n",
    "\n",
    "# Set the x-axis and y-axis ticks to display integers only\n",
    "plt.locator_params(axis='x', integer=True)\n",
    "plt.locator_params(axis='y', integer=True)\n",
    "\n",
    "plt.show()"
   ]
  },
  {
   "cell_type": "markdown",
   "id": "ba999d7d-586b-493f-901c-8de6db71824c",
   "metadata": {},
   "source": [
    "## Recommendation\n",
    "We have identified several factors that may have influenced whether customers abandoned the checkout process. However, further investigation and monitoring of the relevant metrics are needed to confirm the relationship between these factors and cart abandonment.\n",
    "\n",
    "To address these factors and optimize conversion rates while reducing cart abandonment, we recommend implementing specific optimization strategies:\n",
    "\n",
    "1. **Optimization Strategy Related to Price**\n",
    "    - Conduct user interviews to gain deeper insights into why users consider price comparison as a primary reason for abandoning their carts. This qualitative feedback can help identify specific pain points or areas where price-related optimizations can be made.\n",
    "    - Conduct A/B testing to evaluate the effectiveness of offering discounts in reducing the cart abandonment rate. This will provide empirical evidence on the impact of pricing strategies on customer behavior.\n",
    "\n",
    "2. **Optimization Strategy Related to Adding Items and Reducing Time Spent**\n",
    "    - Design and implement a \"Buy Together\" function on the website. This feature will showcase related items of interest to users during the checkout process, encouraging them to add more items to their carts. By reducing the time spent and making the process more convenient, this strategy aims to improve conversion rates and reduce cart abandonment.\n",
    "    - Conduct A/B testing to evaluate the effectiveness of this \"Buy Together\" function in reducing the cart abandonment rate and optimizing the user experience.\n"
   ]
  }
 ],
 "metadata": {
  "editor": "DataCamp Workspace",
  "kernelspec": {
   "display_name": "Python 3 (ipykernel)",
   "language": "python",
   "name": "python3"
  },
  "language_info": {
   "codemirror_mode": {
    "name": "ipython",
    "version": 3
   },
   "file_extension": ".py",
   "mimetype": "text/x-python",
   "name": "python",
   "nbconvert_exporter": "python",
   "pygments_lexer": "ipython3",
   "version": "3.11.3"
  }
 },
 "nbformat": 4,
 "nbformat_minor": 5
}
