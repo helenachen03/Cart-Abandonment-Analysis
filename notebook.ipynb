{
 "cells": [
  {
   "cell_type": "markdown",
   "id": "a3d4387f-fa24-4a80-906b-4cca195b6736",
   "metadata": {},
   "source": [
    "# Data Analyst Professional Practical Exam Submission\n",
    "\n",
    "**You can use any tool that you want to do your analysis and create visualizations. Use this template to write up your summary for submission.**\n",
    "\n",
    "You can use any markdown formatting you wish. If you are not familiar with Markdown, read the [Markdown Guide](https://s3.amazonaws.com/talent-assets.datacamp.com/Markdown+Guide.pdf) before you start.\n"
   ]
  },
  {
   "cell_type": "markdown",
   "id": "562d9d77-2e1e-4523-a28e-1e3b388f930c",
   "metadata": {},
   "source": [
    "##  Data Validation\n",
    "\n",
    "The dataset contains **6738 rows and 9 columns** before cleaning and validataion. I have validated all the columns against the criteria in the dataset table:\n",
    "\n",
    "- model: 18 models without missing values, same as the description. No cleaning is needed.\n",
    "- year: 23 unique values without missing values, from 1998 to 2020, same as the description. No cleaning is needed.\n",
    "- price: numeric values without missing values, same as the description. No cleaning is needed.\n",
    "- transmission: 4 categories without missing values, same as the description. No cleaning is needed.\n",
    "- mileage: numeric values, same as the description. No cleaning is needed.\n",
    "- fuelType: 4 categories without missing values, same as the description. No cleaning is needed.\n",
    "- mpg: numeric values without missing values, same as the description. No cleaning is needed.\n",
    "- engineSize: 16 possible values without missing values, same as the description. No cleaning is needed.\n",
    "\n",
    "After the data validation, the dataset contains **6738 rows and 9 columns** without missing values.\n"
   ]
  },
  {
   "cell_type": "markdown",
   "id": "c22f7f5b-2a69-4515-8b29-7b0e94829f11",
   "metadata": {},
   "source": [
    "## How the Sales Differ Between Hybrid Cars and Other Fuel Types?\n",
    "From the last 6 months' record, more than half of the used cars we sold are using petrol, followed by using hybrid. Also, we can see the number of cars sold in petrol is almost twice the number of cars sold in hybrid. Therefore, we can conclude that there is huge room to impove the sales of hybrid cars. \n",
    "\n",
    "![Number of Used Cars Sold by Fuel Type](fueltype.png)\n",
    "\n",
    "If we only look at hybrid cars. From the bar chart below, the best seller in car models is Yaris, followed by Auris and C-HR.\n",
    "\n",
    "![Number of Used Cars using Hybrid Sold by Car Model](hybrid.png)\n",
    "\n",
    "We also want to compare the price of all the cars we sold last 6 months. I was looking at the distribution of price. The majority of used cars sold last 6 months is less than 30000 GBP. Used cars sold for more than 30000 GBP could be considered outliers.\n",
    "\n",
    "![The Distribution of Price](Price.png)\n",
    "\n",
    "From the multiple boxplots below, we can see the price range in hybrid cars is more significant than other fuel types. The majority of the price of a hybrid car range from 13000 to 21000 GBP, which is higher than petrol and diesel. I am not sure of the meaning of the fuel type in ‘Others,’ so I cannot conclude anything about that type until I have further information.\n",
    "\n",
    "Petrol cars, the largest rival of the hybrid cars, majorly sold from 9000 to 12000 GBP. But as you can see from this graph, a few hybrid cars are also sold in this range.\n",
    "\n",
    "\n",
    "![The Distribution of Price by Fuel Type](./pricefueltype.png)\n"
   ]
  },
  {
   "cell_type": "markdown",
   "id": "5fa9dfc0-5453-4173-b74c-c1401a5e9c3f",
   "metadata": {},
   "source": [
    "## How to Make the Hybrid more Attractive?\n",
    "Since the Hybrid models are more expensive than other types on average, we will find different ways to attract customers. From the multiple boxplots below, **Prius, Yaris and Auris** have records of selling lower than 10000 GBP in the last 6 months, which is competitive with the petrol cars. Therefore, for people concerned about price, we should make these three models our major campaign car models.\n",
    "\n",
    "\n",
    "![The Distribution of Price by Car Model](./pricemodel.png)\n",
    "\n",
    "The other attractive information is the tax. From the bar chart below, we can see the most common road tax for the petrol model is 145 GBP,  while the most common road tax for the hybrid model is 0 GBP. Therefore, for people buying traditional fuel-type car models, a Hybrid might be an excellent choice based on this information.\n",
    "\n",
    "![The Distribution of Tax by Car Model](taxfueltype.png)"
   ]
  },
  {
   "cell_type": "markdown",
   "id": "269661b5-3c57-4eba-93f8-33f991d8fc13",
   "metadata": {},
   "source": [
    "## Business Metrics\n",
    "Since our goal is to increase the number of sales of hybrid and electric cars next year, I would recommend we use **the percentage of hybrid and electric cars in total number of used cars sold last 6 months** as our metric. \n",
    "\n",
    "Based on our last 6 month data, 30% of the used cars sold are hybrid and electric cars. Therefore, if this number is increasing next 6 month, it indicates very good sign to achieve our goal."
   ]
  },
  {
   "cell_type": "markdown",
   "id": "ba999d7d-586b-493f-901c-8de6db71824c",
   "metadata": {},
   "source": [
    "## Recommendation\n",
    "For the following weeks, I would recommend we can focus on the following steps:\n",
    "- Using key metrics to monitor whether there is a strong sign to see the sales will increase.\n",
    "- To implement the campaign as soon as possible, we should smartly promote the hybrid models in the market:\n",
    "  - Promoting road tax reduction\n",
    "  - Less expensive models -Prius, Yaris and Auris model \n",
    "- Stay on top of the current electric and hybrid car markets so that the newest information can be integrated in the campaign.\n",
    "- Data Collection for in-depth analysis\n",
    "  - Improve data quality - what the other fuel type means?\n",
    "  - New related data - Using different fuel types in the same car model to compare eco-friendly cars and other fuel types\n"
   ]
  },
  {
   "cell_type": "markdown",
   "id": "9c5042af-7f73-4808-b735-c262418c9395",
   "metadata": {},
   "source": [
    "## ✅ When you have finished...\n",
    "-  Publish your Workspace using the option on the left\n",
    "-  Check the published version of your report:\n",
    "\t-  Can you see everything you want us to grade?\n",
    "    -  Are all the graphics visible?\n",
    "-  Review the grading rubric. Have you included everything that will be graded?\n",
    "-  Head back to the [Certification Dashboard](https://app.datacamp.com/certification) to submit your practical exam report and record your presentation"
   ]
  }
 ],
 "metadata": {
  "editor": "DataCamp Workspace",
  "kernelspec": {
   "display_name": "Python 3 (ipykernel)",
   "language": "python",
   "name": "python3"
  },
  "language_info": {
   "codemirror_mode": {
    "name": "ipython",
    "version": 3
   },
   "file_extension": ".py",
   "mimetype": "text/x-python",
   "name": "python",
   "nbconvert_exporter": "python",
   "pygments_lexer": "ipython3",
   "version": "3.11.3"
  }
 },
 "nbformat": 4,
 "nbformat_minor": 5
}
