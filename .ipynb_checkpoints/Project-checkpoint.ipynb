# Project - Conversion Rate Optimization Analysis

StyleHub is an e-commerce platform that sells a wide range of clothing and accessories.

The website allows users to browse products, add items to their cart, and proceed to checkout to complete their purchase.

However, the analytics team has noticed a significiant number of users adding items to their cart but not completing the checkout process.

They need your help to understand the reasons behind cart abandonment to optimize their conversion rates and improve the user exprience.


--- 

## Data Information

The dataset contains a comprehensive collection of customer information and shopping behavior data, obtained through a combination of behavior tracking and customer feedback.


| Column Name            | Details                                                                                                                                          |
|------------------------|--------------------------------------------------------------------------------------------------------------------------------------------------|
| customer_id            | Nominal. Unique identifier for each customer.                                                                                                    |
| first_item_added       | Continuous. The timestamp when the first item is added into the cart.                                                                            |
| last_item_added        | Continuous. The timestamp when the last item is added to the cart.                                                                               |
| discount_applied       | Nominal. Whether the customer applied a discounted code or took advantage of a promotional offer during the purchase.                            |
| item_category          | Nominal. The category of the items added into the cart.                                                                                          |
| number_of_items        | Discrete. Number of the items has been added into the cart.                                                                                      |
| shipping_region        | Nominal. The region or country to which the items will be shipped.                                                                               |
| total_price            | Nominal. The total price of all the items in the cart.                                                                                           |
| abandoned_checkout     | Nominal. Whether the customer abandoned the checkout (1) or completed the purchase (0) within a specific timeframe (e.g., 24 hours).             |
| reason_for_abandonment | Nominal. The reason cited by the customer for abandoning the checkout, such as "High Shipping Costs," "Payment Issues," "Price Comparison," etc. |

